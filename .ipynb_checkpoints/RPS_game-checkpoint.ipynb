{
 "cells": [
  {
   "cell_type": "code",
   "execution_count": 9,
   "metadata": {},
   "outputs": [],
   "source": [
    "import numpy as np\n",
    "from tensorflow.keras.preprocessing import image\n",
    "from tensorflow.keras.models import load_model\n",
    "import cv2\n",
    "import random"
   ]
  },
  {
   "cell_type": "code",
   "execution_count": 2,
   "metadata": {},
   "outputs": [],
   "source": [
    "old_model = load_model(\"rps.h5\")"
   ]
  },
  {
   "cell_type": "code",
   "execution_count": 3,
   "metadata": {},
   "outputs": [],
   "source": [
    "def guess_shape(path):\n",
    "    img = image.load_img(path, target_size=(150, 150))\n",
    "    x = image.img_to_array(img)\n",
    "    x = np.expand_dims(x, axis=0)\n",
    "\n",
    "    images = np.vstack([x])\n",
    "    classes = old_model.predict(images, batch_size=10)\n",
    "    if classes[0][0] == 1:\n",
    "        return \"Paper\"\n",
    "    elif classes[0][1] == 1:\n",
    "        return \"Rock\"\n",
    "    else:\n",
    "        return \"Scissor\""
   ]
  },
  {
   "cell_type": "code",
   "execution_count": 4,
   "metadata": {},
   "outputs": [],
   "source": [
    "# path = \"data/rps-validation/rock1.png\"\n",
    "# print(guess_shape(path))\n",
    "Options = [\"Rock\", \"Paper\", \"Scissor\"]\n",
    "Computer_score = 0\n",
    "User_score = 0"
   ]
  },
  {
   "cell_type": "code",
   "execution_count": 5,
   "metadata": {},
   "outputs": [],
   "source": [
    "def update_counter(computer,user):\n",
    "    global Computer_score\n",
    "    global User_score\n",
    "    if ((computer == \"Rock\") and (user == \"Paper\")) or ((computer == \"Paper\") and (user == \"Scissor\")) or ((computer == \"Scissor\") and (user == \"Rock\")):\n",
    "        User_score += 1\n",
    "        return \"User won this round!\"\n",
    "    elif computer == user:\n",
    "        return \"Thats was tie!\"\n",
    "    else:\n",
    "        Computer_score += 1\n",
    "        return \"Computer won this round!\"\n",
    "        \n",
    "def who_won():\n",
    "    if User_score == 3 or Computer_score == 3:\n",
    "        winner = \"You Won the Tournament !!!!!\" if Computer_score < User_score else \"Computer Won the Tournament!\"\n",
    "        return winner\n",
    "    else:\n",
    "        return 0"
   ]
  },
  {
   "cell_type": "code",
   "execution_count": 6,
   "metadata": {},
   "outputs": [
    {
     "ename": "NameError",
     "evalue": "name 'img_name' is not defined",
     "output_type": "error",
     "traceback": [
      "\u001b[1;31m---------------------------------------------------------------------------\u001b[0m",
      "\u001b[1;31mNameError\u001b[0m                                 Traceback (most recent call last)",
      "\u001b[1;32m<ipython-input-6-cb0aab200608>\u001b[0m in \u001b[0;36m<module>\u001b[1;34m\u001b[0m\n\u001b[0;32m     64\u001b[0m \u001b[1;31m#         img_name = \"example.png\"\u001b[0m\u001b[1;33m\u001b[0m\u001b[1;33m\u001b[0m\u001b[1;33m\u001b[0m\u001b[0m\n\u001b[0;32m     65\u001b[0m \u001b[1;31m#         cv2.imwrite(img_name, frame)\u001b[0m\u001b[1;33m\u001b[0m\u001b[1;33m\u001b[0m\u001b[1;33m\u001b[0m\u001b[0m\n\u001b[1;32m---> 66\u001b[1;33m         \u001b[0mprint\u001b[0m\u001b[1;33m(\u001b[0m\u001b[1;34m\"{} written!\"\u001b[0m\u001b[1;33m.\u001b[0m\u001b[0mformat\u001b[0m\u001b[1;33m(\u001b[0m\u001b[0mimg_name\u001b[0m\u001b[1;33m)\u001b[0m\u001b[1;33m)\u001b[0m\u001b[1;33m\u001b[0m\u001b[1;33m\u001b[0m\u001b[0m\n\u001b[0m\u001b[0;32m     67\u001b[0m \u001b[1;31m#         info = guess_shape(img_name) + \"!  Hold S to start again\"\u001b[0m\u001b[1;33m\u001b[0m\u001b[1;33m\u001b[0m\u001b[1;33m\u001b[0m\u001b[0m\n\u001b[0;32m     68\u001b[0m         \u001b[0mguessed_shape\u001b[0m \u001b[1;33m=\u001b[0m \u001b[0mguess_shape\u001b[0m\u001b[1;33m(\u001b[0m\u001b[0mimg_name\u001b[0m\u001b[1;33m)\u001b[0m\u001b[1;33m\u001b[0m\u001b[1;33m\u001b[0m\u001b[0m\n",
      "\u001b[1;31mNameError\u001b[0m: name 'img_name' is not defined"
     ]
    }
   ],
   "source": [
    "cap = cv2.VideoCapture(0, cv2.CAP_DSHOW)\n",
    "seconds = 5\n",
    "millis = seconds * 1000\n",
    "timer = 0\n",
    "started = False\n",
    "captured = False\n",
    "emojis = True\n",
    "reset = False\n",
    "t=\"\"\n",
    "\n",
    "while True:            \n",
    "    font                   = cv2.FONT_HERSHEY_SIMPLEX\n",
    "    bottomLeftCornerOfText = (75,400)\n",
    "    up = (180,230)\n",
    "    down = (220,260)\n",
    "    last_up = (450,130)\n",
    "    last_middle = (450,150)\n",
    "    last_down = (450,170)\n",
    "    fontScale              = 1\n",
    "    fontColor              = (255,255,255)\n",
    "    lineType               = 2\n",
    "    if not captured and reset:\n",
    "        info = t\n",
    "    elif not captured and not reset:\n",
    "        info = \"initialised! Hold S to Start\"\n",
    "    \n",
    "    # Capture frame-by-frame\n",
    "    # Display the resulting frame\n",
    "    \n",
    "    ret, frame = cap.read()\n",
    "    \n",
    "    rock = cv2.imread('rock1.png')\n",
    "    paper = cv2.imread('paper1.png')\n",
    "    scissor = cv2.imread('scissor1.png')\n",
    "    \n",
    "    Text = \"Computer   User\"\n",
    "    scores = str(Computer_score)+\" \"*10+str(User_score)\n",
    "    \n",
    "    if started:\n",
    "        timer = timer - 50\n",
    "    else:\n",
    "        cv2.putText(frame,Text,up,font,1,fontColor,lineType)\n",
    "        cv2.putText(frame,scores,down,font,1,fontColor,lineType)\n",
    "    \n",
    "    if timer > 4000:\n",
    "        info = \"Get Ready for Rock Paper Scissor\"\n",
    "    elif timer > 3000:\n",
    "        emojis = False\n",
    "        info = \"3\"\n",
    "        fontScale = 8\n",
    "    elif timer > 2000:\n",
    "        info = \"2\"\n",
    "        fontScale = 5\n",
    "    elif timer > 1000:\n",
    "        info = \"1\"\n",
    "        fontScale = 2\n",
    "    elif timer > 100:\n",
    "        info = \"\"\n",
    "    \n",
    "    if started & (timer <= 100):\n",
    "        emojis = True\n",
    "        started = False\n",
    "        captured = True\n",
    "        img_name = \"Temp.png\"\n",
    "        cv2.imwrite(img_name, frame)\n",
    "        print(\"{} written!\".format(img_name))\n",
    "#         info = guess_shape(img_name) + \"!  Hold S to start again\"\n",
    "        guessed_shape = guess_shape(img_name)\n",
    "        computer_shape = random.choice(Options)\n",
    "        round_winner = update_counter(computer_shape,guessed_shape)\n",
    "        t = who_won()\n",
    "        if type(t)== int:\n",
    "            info = round_winner\n",
    "        else :\n",
    "            info = t\n",
    "            reset = True\n",
    "            Computer_score = 0\n",
    "            User_score = 0\n",
    "    \n",
    "    if captured:\n",
    "        cv2.putText(frame, \"Last Round\", last_up,font,0.5,fontColor,lineType)\n",
    "        cv2.putText(frame, \"You = \"+guessed_shape, last_middle,font,0.5,fontColor,lineType)\n",
    "        cv2.putText(frame, \"Computer = \"+computer_shape, last_down,font,0.5,fontColor,lineType)\n",
    "        \n",
    "\n",
    "    cv2.putText(frame,str(info),bottomLeftCornerOfText,font,fontScale,fontColor,lineType)\n",
    "    \n",
    "#     frame = cv2.addWeighted(frame,0.4,overlay,0.1,0)\n",
    "    if emojis:\n",
    "        frame[50:136,100:200] = rock\n",
    "        frame[50:136,220:320] = paper\n",
    "        frame[50:136,340:440] = scissor\n",
    "    cv2.imshow('video recording', frame)\n",
    "\n",
    "    if (cv2.waitKey(10) & 0xFF == ord('q')) | (cv2.waitKey(10) & 0xFF == ord('Q')):\n",
    "       #this method holds execution for 10 milliseconds, which is why we \n",
    "       #reduce millis by 10\n",
    "        break\n",
    "    elif (cv2.waitKey(10) & 0xFF == ord('s')) | (cv2.waitKey(10) & 0xFF == ord('S')):\n",
    "        captured = False\n",
    "        started = True\n",
    "        timer = millis\n",
    "\n",
    "cap.release()\n",
    "cv2.destroyAllWindows()\n"
   ]
  },
  {
   "cell_type": "code",
   "execution_count": 7,
   "metadata": {},
   "outputs": [],
   "source": [
    "cap.release()"
   ]
  },
  {
   "cell_type": "code",
   "execution_count": 8,
   "metadata": {},
   "outputs": [],
   "source": [
    "cv2.destroyAllWindows()\n"
   ]
  },
  {
   "cell_type": "code",
   "execution_count": null,
   "metadata": {},
   "outputs": [],
   "source": []
  }
 ],
 "metadata": {
  "kernelspec": {
   "display_name": "Python 3",
   "language": "python",
   "name": "python3"
  },
  "language_info": {
   "codemirror_mode": {
    "name": "ipython",
    "version": 3
   },
   "file_extension": ".py",
   "mimetype": "text/x-python",
   "name": "python",
   "nbconvert_exporter": "python",
   "pygments_lexer": "ipython3",
   "version": "3.7.6"
  }
 },
 "nbformat": 4,
 "nbformat_minor": 4
}
